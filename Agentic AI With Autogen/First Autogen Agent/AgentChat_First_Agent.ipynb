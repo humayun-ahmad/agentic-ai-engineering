{
 "cells": [
  {
   "cell_type": "markdown",
   "id": "8d402fab",
   "metadata": {},
   "source": [
    "# Introduction to AgentChat API with First AssistantAgent\n",
    "\n",
    "We’ll use the AgentChat API to create a simple `AssistantAgent` and explore its capabilities."
   ]
  },
  {
   "cell_type": "code",
   "execution_count": 30,
   "id": "5ba48f41",
   "metadata": {},
   "outputs": [],
   "source": [
    "from autogen_agentchat.agents import AssistantAgent\n",
    "from autogen_ext.models.openai import OpenAIChatCompletionClient\n",
    "from langchain_google_genai import ChatGoogleGenerativeAI\n",
    "from dotenv import load_dotenv\n",
    "import os\n",
    "import asyncio\n",
    "from openai import OpenAI\n",
    "from IPython.display import Markdown, display\n",
    "\n",
    "load_dotenv()\n",
    "google_api_key = os.getenv('GOOGLE_API_KEY')"
   ]
  },
  {
   "cell_type": "code",
   "execution_count": 21,
   "id": "4c00fee2",
   "metadata": {},
   "outputs": [],
   "source": [
    "model_client = OpenAIChatCompletionClient(\n",
    "    model=\"gemini-2.0-flash-exp\",\n",
    "    base_url=\"https://generativelanguage.googleapis.com/v1beta/openai/\",\n",
    "    api_key=google_api_key,\n",
    "    model_info={\n",
    "        \"vision\": False,\n",
    "        \"function_calling\": True,\n",
    "        \"json_output\": True,\n",
    "        \"family\": \"unknown\",\n",
    "        \"structured_output\": False\n",
    "    }\n",
    ")"
   ]
  },
  {
   "cell_type": "markdown",
   "id": "1368641a",
   "metadata": {},
   "source": [
    "## Creating Our First AssistantAgent\n",
    "\n",
    "The `AssistantAgent` is a versatile agent for conversations, powered by AgentChat"
   ]
  },
  {
   "cell_type": "code",
   "execution_count": 22,
   "id": "09209f49",
   "metadata": {},
   "outputs": [],
   "source": [
    "assistant = AssistantAgent(name='assistant', model_client=model_client, description='A basic first Agent')"
   ]
  },
  {
   "cell_type": "markdown",
   "id": "9c8e63ff",
   "metadata": {},
   "source": [
    "## Testing the AssistantAgent\n",
    "\n",
    "We''ll use the `run` method to send a task and get a response"
   ]
  },
  {
   "cell_type": "code",
   "execution_count": null,
   "id": "f2337046",
   "metadata": {},
   "outputs": [
    {
     "name": "stdout",
     "output_type": "stream",
     "text": [
      "[TextMessage(id='58364ec2-966c-4036-b28d-39fd6da35d13', source='user', models_usage=None, metadata={}, created_at=datetime.datetime(2025, 8, 1, 10, 21, 10, 800656, tzinfo=datetime.timezone.utc), content=\"What's the capital of France ?\", type='TextMessage'), TextMessage(id='026bae43-9c78-4192-876d-3b4973647e9d', source='assistant', models_usage=RequestUsage(prompt_tokens=48, completion_tokens=11), metadata={}, created_at=datetime.datetime(2025, 8, 1, 10, 21, 12, 775989, tzinfo=datetime.timezone.utc), content='The capital of France is Paris.\\nTERMINATE\\n', type='TextMessage')]\n"
     ]
    }
   ],
   "source": [
    "result = await assistant.run(task=\"What's the capital of France ?\")"
   ]
  },
  {
   "cell_type": "code",
   "execution_count": 28,
   "id": "f56a5db3",
   "metadata": {},
   "outputs": [
    {
     "data": {
      "text/plain": [
       "'The capital of France is Paris.\\nTERMINATE\\n'"
      ]
     },
     "execution_count": 28,
     "metadata": {},
     "output_type": "execute_result"
    }
   ],
   "source": [
    "result.messages[-1].content"
   ]
  },
  {
   "cell_type": "code",
   "execution_count": 32,
   "id": "2f8369c7",
   "metadata": {},
   "outputs": [],
   "source": [
    "result = await assistant.run(task=\"What's the capital of USA & Write some more about the same ?\")"
   ]
  },
  {
   "cell_type": "code",
   "execution_count": 36,
   "id": "39984c88",
   "metadata": {},
   "outputs": [
    {
     "data": {
      "text/markdown": [
       "The capital of the United States of America is Washington, D.C.\n",
       "\n",
       "Here's some more information about it:\n",
       "\n",
       "*   **Not a State:** Washington, D.C., stands for District of Columbia. It is a federal district, not a state, and was specifically created to be the nation's capital. This was to ensure that no single state would have direct control over the federal government.\n",
       "\n",
       "*   **Location:** It's located on the Potomac River, bordered by Maryland and Virginia.\n",
       "\n",
       "*   **Government:** Washington D.C. has a mayor and a city council, but the U.S. Congress has supreme authority over the district. The residents only gained the right to vote for president in 1961 and have no voting representation in Congress (though they have a non-voting delegate in the House of Representatives). The issue of D.C. statehood is a long-standing political debate.\n",
       "\n",
       "*   **Key Institutions:** It is home to the three branches of the U.S. federal government: the White House (Executive), the Capitol Building (Legislative), and the Supreme Court (Judicial). It also houses numerous federal agencies, monuments, and museums, many of which are part of the Smithsonian Institution.\n",
       "\n",
       "*   **Designed City:** The city's layout was designed by Pierre Charles L'Enfant, a French-American architect, in a grid pattern with diagonal avenues.\n",
       "\n",
       "*   **Economy:** While government is the largest employer, the city also has a significant presence in education, research, law, and tourism.\n",
       "\n",
       "*   **Nicknames:** It is often called \"D.C.,\" \"Washington,\" or simply \"the District.\"\n",
       "\n",
       "*   **History:** Selected as the capital in 1790, the city was established from land ceded by Maryland and Virginia. The Residence Act of 1790 approved the location of the capital on the Potomac River. The City started functioning as the Capital from 1800.\n",
       "TERMINATE\n"
      ],
      "text/plain": [
       "<IPython.core.display.Markdown object>"
      ]
     },
     "metadata": {},
     "output_type": "display_data"
    }
   ],
   "source": [
    "display(Markdown(result.messages[-1].content))"
   ]
  }
 ],
 "metadata": {
  "kernelspec": {
   "display_name": "myenv",
   "language": "python",
   "name": "python3"
  },
  "language_info": {
   "codemirror_mode": {
    "name": "ipython",
    "version": 3
   },
   "file_extension": ".py",
   "mimetype": "text/x-python",
   "name": "python",
   "nbconvert_exporter": "python",
   "pygments_lexer": "ipython3",
   "version": "3.10.0"
  }
 },
 "nbformat": 4,
 "nbformat_minor": 5
}
