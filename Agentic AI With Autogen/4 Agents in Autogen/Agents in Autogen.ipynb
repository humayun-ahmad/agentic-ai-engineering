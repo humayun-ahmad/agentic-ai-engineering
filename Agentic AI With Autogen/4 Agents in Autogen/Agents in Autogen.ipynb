{
 "cells": [
  {
   "cell_type": "markdown",
   "id": "ea01fc1d",
   "metadata": {},
   "source": [
    "# <center>Agents in Autogen</center>"
   ]
  },
  {
   "cell_type": "code",
   "execution_count": 21,
   "id": "34095e20",
   "metadata": {},
   "outputs": [],
   "source": [
    "from autogen_agentchat.agents import AssistantAgent\n",
    "from autogen_ext.models.openai import OpenAIChatCompletionClient\n",
    "from autogen_agentchat.messages import TextMessage\n",
    "from dotenv import load_dotenv\n",
    "import os\n",
    "import asyncio\n",
    "from openai import OpenAI\n",
    "from IPython.display import Markdown, display\n",
    "\n",
    "load_dotenv()\n",
    "google_api_key = os.getenv('GOOGLE_API_KEY')\n",
    "\n",
    "model_client = OpenAIChatCompletionClient(\n",
    "    model=\"gemini-2.0-flash-exp\",\n",
    "    base_url=\"https://generativelanguage.googleapis.com/v1beta/openai/\",\n",
    "    api_key=google_api_key,\n",
    "    model_info={\n",
    "        \"vision\": False,\n",
    "        \"function_calling\": True,\n",
    "        \"json_output\": True,\n",
    "        \"family\": \"unknown\",\n",
    "        \"structured_output\": False\n",
    "    }\n",
    ")"
   ]
  },
  {
   "cell_type": "markdown",
   "id": "cebe3bab",
   "metadata": {},
   "source": [
    "### Tools"
   ]
  },
  {
   "cell_type": "code",
   "execution_count": 22,
   "id": "0d7e89b3",
   "metadata": {},
   "outputs": [],
   "source": [
    "async def web_search(query: str) -> str:\n",
    "    \"\"\"Find information on the web\"\"\"\n",
    "    return \"The Persian cat is an Iranian breed of domestic cat known for its long fur and gentle temperament. \""
   ]
  },
  {
   "cell_type": "markdown",
   "id": "89cc0e46",
   "metadata": {},
   "source": [
    "### Agents"
   ]
  },
  {
   "cell_type": "code",
   "execution_count": 23,
   "id": "c6c7c829",
   "metadata": {},
   "outputs": [],
   "source": [
    "agent = AssistantAgent(\n",
    "    name='assistant',\n",
    "    model_client=model_client,\n",
    "    tools=[web_search],\n",
    "    system_message='Use Tools to solve tasks',\n",
    "    description='An agent which uses tool to help solve task'\n",
    ")"
   ]
  },
  {
   "cell_type": "code",
   "execution_count": 24,
   "id": "2b19716b",
   "metadata": {},
   "outputs": [
    {
     "data": {
      "text/markdown": [
       "The Persian cat is an Iranian breed of domestic cat known for its long fur and gentle temperament. "
      ],
      "text/plain": [
       "<IPython.core.display.Markdown object>"
      ]
     },
     "metadata": {},
     "output_type": "display_data"
    }
   ],
   "source": [
    "result = await agent.run(task='Find information about Persian cat')\n",
    "display(Markdown(result.messages[-1].content))"
   ]
  },
  {
   "cell_type": "code",
   "execution_count": 25,
   "id": "7f117875",
   "metadata": {},
   "outputs": [
    {
     "name": "stdout",
     "output_type": "stream",
     "text": [
      "[TextMessage(id='aee17ef6-50a9-4650-96b1-666846f7fb77', source='user', models_usage=None, metadata={}, created_at=datetime.datetime(2025, 8, 1, 11, 53, 40, 451459, tzinfo=datetime.timezone.utc), content='Find information about Persian cat', type='TextMessage'), ToolCallRequestEvent(id='9e6660fb-3608-4154-be4c-12a12bde186a', source='assistant', models_usage=RequestUsage(prompt_tokens=23, completion_tokens=6), metadata={}, created_at=datetime.datetime(2025, 8, 1, 11, 53, 41, 284592, tzinfo=datetime.timezone.utc), content=[FunctionCall(id='', arguments='{\"query\":\"Persian cat\"}', name='web_search')], type='ToolCallRequestEvent'), ToolCallExecutionEvent(id='0f2c5878-5086-41cd-86ef-6e06237e6bf0', source='assistant', models_usage=None, metadata={}, created_at=datetime.datetime(2025, 8, 1, 11, 53, 41, 285598, tzinfo=datetime.timezone.utc), content=[FunctionExecutionResult(content='The Persian cat is an Iranian breed of domestic cat known for its long fur and gentle temperament. ', name='web_search', call_id='', is_error=False)], type='ToolCallExecutionEvent'), ToolCallSummaryMessage(id='1c26fa7f-e292-4b26-befb-d5f9bab3442b', source='assistant', models_usage=None, metadata={}, created_at=datetime.datetime(2025, 8, 1, 11, 53, 41, 285598, tzinfo=datetime.timezone.utc), content='The Persian cat is an Iranian breed of domestic cat known for its long fur and gentle temperament. ', type='ToolCallSummaryMessage', tool_calls=[FunctionCall(id='', arguments='{\"query\":\"Persian cat\"}', name='web_search')], results=[FunctionExecutionResult(content='The Persian cat is an Iranian breed of domestic cat known for its long fur and gentle temperament. ', name='web_search', call_id='', is_error=False)])]\n"
     ]
    }
   ],
   "source": [
    "print(result.messages)"
   ]
  },
  {
   "cell_type": "markdown",
   "id": "77679852",
   "metadata": {},
   "source": [
    "TaskResult(messages= [ \n",
    "    \n",
    "1. TextMessage(source='user', models_usage=None, metadata={}, created_at=datetime.datetime(2025, 6, 19, 16, 0, 26, 684759, tzinfo=datetime.timezone.utc), content='Find information about Labrador Retriever', type='TextMessage')\n",
    "\n",
    "2. ToolCallRequestEvent(source='assistant', models_usage=RequestUsage(prompt_tokens=61, completion_tokens=17), metadata={}, created_at=datetime.datetime(2025, 6, 19, 16, 0, 27, 992815, tzinfo=datetime.timezone.utc), content=[FunctionCall(id='call_ipWxcrV4tXyUsapUhqpz6NyO', arguments='{\"query\":\"Labrador Retriever\"}', name='web_search')], type='ToolCallRequestEvent'), \n",
    "\n",
    "3. ToolCallExecutionEvent(source='assistant', models_usage=None, metadata={}, created_at=datetime.datetime(2025, 6, 19, 16, 0, 27, 993741, tzinfo=datetime.timezone.utc), content=[FunctionExecutionResult(content='The Labrador Retriever or simply Labrador is a British breed of retriever gun dog. ', name='web_search', call_id='call_ipWxcrV4tXyUsapUhqpz6NyO', is_error=False)], type='ToolCallExecutionEvent'), \n",
    "\n",
    "4. ToolCallSummaryMessage(source='assistant', models_usage=None, metadata={}, created_at=datetime.datetime(2025, 6, 19, 16, 0, 27, 993775, tzinfo=datetime.timezone.utc), content='The Labrador Retriever or simply Labrador is a British breed of retriever gun dog. ', type='ToolCallSummaryMessage', tool_calls=[FunctionCall(id='call_ipWxcrV4tXyUsapUhqpz6NyO', arguments='{\"query\":\"Labrador Retriever\"}', name='web_search')], \n",
    "\n",
    "results=[FunctionExecutionResult(content='The Labrador Retriever or simply Labrador is a British breed of retriever gun dog. ', name='web_search', call_id='call_ipWxcrV4tXyUsapUhqpz6NyO', is_error=False)])], stop_reason=None)"
   ]
  },
  {
   "cell_type": "markdown",
   "id": "c4642b5b",
   "metadata": {},
   "source": [
    "### On_message() method"
   ]
  },
  {
   "cell_type": "code",
   "execution_count": 26,
   "id": "30d2dc93",
   "metadata": {},
   "outputs": [
    {
     "name": "stdout",
     "output_type": "stream",
     "text": [
      "[]\n",
      "\n",
      "\n",
      "\n",
      "\n",
      "\n",
      "id='aeaacafb-f218-454d-9d91-a88c77798994' source='assistant' models_usage=RequestUsage(prompt_tokens=58, completion_tokens=20) metadata={} created_at=datetime.datetime(2025, 8, 1, 11, 53, 42, 520967, tzinfo=datetime.timezone.utc) content='The Persian cat is an Iranian breed of domestic cat known for its long fur and gentle temperament.\\n' type='TextMessage'\n"
     ]
    }
   ],
   "source": [
    "from autogen_core import CancellationToken\n",
    "\n",
    "async def assistant_run()-> None:\n",
    "    response = await agent.on_messages(\n",
    "        messages= [TextMessage(content='Find information about Persian cat',source='User')],\n",
    "        cancellation_token=CancellationToken()\n",
    "    )\n",
    "\n",
    "    print(response.inner_messages)\n",
    "    print('\\n\\n\\n\\n')\n",
    "    print(response.chat_message)\n",
    "\n",
    "await assistant_run()"
   ]
  },
  {
   "cell_type": "markdown",
   "id": "e0f3b53a",
   "metadata": {},
   "source": [
    "### Streaming Messages\n",
    "on_messages_stream()"
   ]
  },
  {
   "cell_type": "code",
   "execution_count": 27,
   "id": "989c8ab2",
   "metadata": {},
   "outputs": [
    {
     "name": "stdout",
     "output_type": "stream",
     "text": [
      "---------- ToolCallRequestEvent (assistant) ----------\n",
      "[FunctionCall(id='', arguments='{\"query\":\"Labrador Retriever\"}', name='web_search')]\n",
      "[Prompt tokens: 86, Completion tokens: 7]\n",
      "---------- ToolCallExecutionEvent (assistant) ----------\n",
      "[FunctionExecutionResult(content='The Persian cat is an Iranian breed of domestic cat known for its long fur and gentle temperament. ', name='web_search', call_id='', is_error=False)]\n",
      "---------- assistant ----------\n",
      "The Persian cat is an Iranian breed of domestic cat known for its long fur and gentle temperament. \n",
      "---------- Summary ----------\n",
      "Number of inner messages: 2\n",
      "Total prompt tokens: 86\n",
      "Total completion tokens: 7\n",
      "Duration: 0.68 seconds\n"
     ]
    }
   ],
   "source": [
    "from autogen_agentchat.ui import Console\n",
    "\n",
    "\n",
    "async def assistant_run_stream() -> None:\n",
    "\n",
    "    await Console(\n",
    "        agent.on_messages_stream(\n",
    "        messages= [TextMessage(content='Find information about Labrador Retriever via the tool',source='User')],\n",
    "        cancellation_token=CancellationToken()\n",
    "    ),\n",
    "    output_stats=True # Enable stats Printing\n",
    "    )\n",
    "\n",
    "\n",
    "await assistant_run_stream()"
   ]
  },
  {
   "cell_type": "code",
   "execution_count": 28,
   "id": "759e927e",
   "metadata": {},
   "outputs": [
    {
     "name": "stdout",
     "output_type": "stream",
     "text": [
      "---------- assistant ----------\n",
      "You asked me to find information about Labrador Retriever via the tool.\n",
      "\n",
      "[Prompt tokens: 125, Completion tokens: 14]\n",
      "---------- Summary ----------\n",
      "Number of inner messages: 0\n",
      "Total prompt tokens: 125\n",
      "Total completion tokens: 14\n",
      "Duration: 1.04 seconds\n"
     ]
    }
   ],
   "source": [
    "from autogen_agentchat.ui import Console\n",
    "\n",
    "\n",
    "async def assistant_run_stream() -> None:\n",
    "\n",
    "    await Console(\n",
    "        agent.on_messages_stream(\n",
    "        messages= [TextMessage(content='What was the last question I asked ?',source='User')],\n",
    "        cancellation_token=CancellationToken()\n",
    "    ),\n",
    "    output_stats=True # Enable stats Printing\n",
    "    )\n",
    "\n",
    "\n",
    "await assistant_run_stream()"
   ]
  },
  {
   "cell_type": "code",
   "execution_count": null,
   "id": "47835cb5",
   "metadata": {},
   "outputs": [],
   "source": []
  }
 ],
 "metadata": {
  "kernelspec": {
   "display_name": "myenv",
   "language": "python",
   "name": "python3"
  },
  "language_info": {
   "codemirror_mode": {
    "name": "ipython",
    "version": 3
   },
   "file_extension": ".py",
   "mimetype": "text/x-python",
   "name": "python",
   "nbconvert_exporter": "python",
   "pygments_lexer": "ipython3",
   "version": "3.10.0"
  }
 },
 "nbformat": 4,
 "nbformat_minor": 5
}
