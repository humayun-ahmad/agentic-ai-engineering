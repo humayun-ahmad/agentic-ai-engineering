{
 "cells": [
  {
   "cell_type": "markdown",
   "id": "776145bc",
   "metadata": {},
   "source": [
    "# <center>Structured Output</center>\n"
   ]
  },
  {
   "cell_type": "code",
   "execution_count": 23,
   "id": "c2c7aefe",
   "metadata": {},
   "outputs": [],
   "source": [
    "import asyncio\n",
    "from autogen_agentchat.agents import AssistantAgent\n",
    "from autogen_ext.models.openai import OpenAIChatCompletionClient\n",
    "from autogen_agentchat.messages import TextMessage, MultiModalMessage\n",
    "from autogen_core import Image as AGImage\n",
    "\n",
    "from pydantic import BaseModel\n",
    "from PIL import Image\n",
    "from io import BytesIO\n",
    "import requests\n",
    "\n",
    "from IPython.display import Markdown, display\n",
    "from dotenv import load_dotenv\n",
    "import os\n",
    "\n",
    "load_dotenv()\n",
    "google_api_key = os.getenv('GOOGLE_API_KEY')\n",
    "model_name = os.getenv(\"GEMINI_MODEL\")\n"
   ]
  },
  {
   "cell_type": "code",
   "execution_count": 24,
   "id": "ca07f32d",
   "metadata": {},
   "outputs": [],
   "source": [
    "from pydantic import BaseModel\n",
    "\n",
    "class PlanetInfo(BaseModel):\n",
    "    name: str\n",
    "    color: str\n",
    "    distance_miles: int"
   ]
  },
  {
   "cell_type": "code",
   "execution_count": 29,
   "id": "cc4fc7a8",
   "metadata": {},
   "outputs": [],
   "source": [
    "model_client = OpenAIChatCompletionClient(\n",
    "    model=model_name,\n",
    "    base_url=\"https://generativelanguage.googleapis.com/v1beta/openai/\",\n",
    "    api_key=google_api_key,\n",
    "    model_info={\n",
    "        \"vision\": True,\n",
    "        \"function_calling\": True,\n",
    "        \"json_output\": True,\n",
    "        \"family\": \"gpt-4o\",\n",
    "        \"structured_output\": True\n",
    "    },\n",
    "    response_format=PlanetInfo\n",
    ")"
   ]
  },
  {
   "cell_type": "markdown",
   "id": "efd188dd",
   "metadata": {},
   "source": [
    "### Agent create"
   ]
  },
  {
   "cell_type": "code",
   "execution_count": 26,
   "id": "ec6f4352",
   "metadata": {},
   "outputs": [],
   "source": [
    "agent = AssistantAgent(\n",
    "    name='planet_agent',\n",
    "    model_client=model_client,\n",
    "    system_message=\"You are a helpful assistant that provides information about planets. in the structure JSON\"\n",
    ")"
   ]
  },
  {
   "cell_type": "code",
   "execution_count": 34,
   "id": "344c9cb1",
   "metadata": {},
   "outputs": [
    {
     "name": "stdout",
     "output_type": "stream",
     "text": [
      "{\n",
      "  \"color\": \"red\",\n",
      "  \"distance_miles\": 142000000,\n",
      "  \"name\": \"Mars\"\n",
      "}\n"
     ]
    }
   ],
   "source": [
    "async def test_structured_output():\n",
    "    task = TextMessage(content = \"Please provide information about Mars.\",source='User')\n",
    "    result = await agent.run(task=task)\n",
    "    structured_response = result.messages[-1].content\n",
    "    print(structured_response)\n",
    "    return structured_response\n",
    "\n",
    "resultJson = await test_structured_output()"
   ]
  },
  {
   "cell_type": "markdown",
   "id": "0577b983",
   "metadata": {},
   "source": []
  },
  {
   "cell_type": "code",
   "execution_count": null,
   "id": "d37105b0",
   "metadata": {},
   "outputs": [
    {
     "name": "stdout",
     "output_type": "stream",
     "text": [
      "Result:\n",
      "{\n",
      "  \"color\": \"red\",\n",
      "  \"distance_miles\": 142000000,\n",
      "  \"name\": \"Mars\"\n",
      "}\n",
      "Parsed JSON:\n",
      "{'color': 'red', 'distance_miles': 142000000, 'name': 'Mars'}\n"
     ]
    }
   ],
   "source": [
    "print(\"Result:\")\n",
    "print(resultJson)\n",
    "\n",
    "if isinstance(resultJson, dict):\n",
    "    json_string = json.dumps(resultJson)\n",
    "    print(\"As JSON string:\")\n",
    "    print(json_string)\n",
    "elif isinstance(resultJson, str):\n",
    "    try:\n",
    "        parsed_json = json.loads(resultJson)\n",
    "        print(\"Parsed JSON:\")\n",
    "        print(parsed_json)\n",
    "    except json.JSONDecodeError:\n",
    "        print(\"Not a valid JSON string:\", resultJson)"
   ]
  }
 ],
 "metadata": {
  "kernelspec": {
   "display_name": "myenv",
   "language": "python",
   "name": "python3"
  },
  "language_info": {
   "codemirror_mode": {
    "name": "ipython",
    "version": 3
   },
   "file_extension": ".py",
   "mimetype": "text/x-python",
   "name": "python",
   "nbconvert_exporter": "python",
   "pygments_lexer": "ipython3",
   "version": "3.10.0"
  }
 },
 "nbformat": 4,
 "nbformat_minor": 5
}
