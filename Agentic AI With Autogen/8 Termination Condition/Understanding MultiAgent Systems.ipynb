{
 "cells": [
  {
   "cell_type": "markdown",
   "id": "550f63f8",
   "metadata": {},
   "source": [
    "# Multi Agent Team Approach - With Termination Condition\n",
    "We will be using 3 agents to now write the story, each with its own work and mastery"
   ]
  },
  {
   "cell_type": "code",
   "execution_count": 8,
   "id": "4c9f9b66",
   "metadata": {},
   "outputs": [],
   "source": [
    "import asyncio\n",
    "from autogen_agentchat.agents import AssistantAgent\n",
    "from autogen_ext.models.openai import OpenAIChatCompletionClient\n",
    "from autogen_agentchat.messages import TextMessage, MultiModalMessage\n",
    "from autogen_core import Image as AGImage\n",
    "from autogen_agentchat.teams import RoundRobinGroupChat, SelectorGroupChat\n",
    "from autogen_agentchat.conditions import MaxMessageTermination,TextMentionTermination\n",
    "from autogen_agentchat.base import TaskResult\n",
    "\n",
    "from pydantic import BaseModel\n",
    "from PIL import Image\n",
    "from io import BytesIO\n",
    "import requests\n",
    "\n",
    "from IPython.display import Markdown, display\n",
    "from dotenv import load_dotenv\n",
    "import os\n",
    "\n",
    "load_dotenv()\n",
    "google_api_key = os.getenv('GOOGLE_API_KEY')\n",
    "model_name = os.getenv(\"GEMINI_MODEL\")"
   ]
  },
  {
   "cell_type": "markdown",
   "id": "2ce52a8d",
   "metadata": {},
   "source": [
    "### Model Client"
   ]
  },
  {
   "cell_type": "code",
   "execution_count": 9,
   "id": "233d9787",
   "metadata": {},
   "outputs": [],
   "source": [
    "model_client = OpenAIChatCompletionClient(\n",
    "    model=model_name,\n",
    "    base_url=\"https://generativelanguage.googleapis.com/v1beta/openai/\",\n",
    "    api_key=google_api_key,\n",
    "    model_info={\n",
    "        \"vision\": True,\n",
    "        \"function_calling\": True,\n",
    "        \"json_output\": True,\n",
    "        \"family\": \"gpt-4o\",\n",
    "        \"structured_output\": True\n",
    "    },\n",
    ")"
   ]
  },
  {
   "cell_type": "markdown",
   "id": "44086775",
   "metadata": {},
   "source": [
    "### Agents"
   ]
  },
  {
   "cell_type": "code",
   "execution_count": 10,
   "id": "8a1835cb",
   "metadata": {},
   "outputs": [],
   "source": [
    "plot_agent = AssistantAgent(\n",
    "    name = 'plot_writer',\n",
    "    model_client=model_client,\n",
    "    system_message=\"You create engaging plots for stories. Focus on the Pokemon's journey\"\n",
    ")\n",
    "\n",
    "character_agent = AssistantAgent(\n",
    "    name = 'character_writer',\n",
    "    model_client=model_client,\n",
    "    system_message=\"You develop characters. Describe the pokemon and the villian in detail, including their motivations and backgrounds.\"\n",
    ")\n",
    "\n",
    "ending_agent = AssistantAgent(\n",
    "    name = 'ending_writer',\n",
    "    model_client=model_client,\n",
    "    system_message=\"You wrute engaging endings. conclude the story with a twist.\"\n",
    ")\n",
    "\n",
    "review_agent = AssistantAgent(\n",
    "    name = 'review_writer',\n",
    "    model_client=model_client,\n",
    "    system_message=\"You have to say 'APPROVE' once the story is complete and you like the full flow else provide your feedback.\"\n",
    ")"
   ]
  },
  {
   "cell_type": "code",
   "execution_count": 11,
   "id": "e1118b29",
   "metadata": {},
   "outputs": [],
   "source": [
    "termination_condition = MaxMessageTermination(10) | TextMentionTermination('APPROVE')\n"
   ]
  },
  {
   "cell_type": "markdown",
   "id": "262ba9d3",
   "metadata": {},
   "source": [
    "### Create a team"
   ]
  },
  {
   "cell_type": "code",
   "execution_count": 12,
   "id": "9798e250",
   "metadata": {},
   "outputs": [],
   "source": [
    "team = RoundRobinGroupChat(\n",
    "    [plot_agent, character_agent, ending_agent,review_agent],\n",
    "    termination_condition=termination_condition\n",
    "    # max_turns=3\n",
    ")"
   ]
  },
  {
   "cell_type": "code",
   "execution_count": 13,
   "id": "143df993",
   "metadata": {},
   "outputs": [
    {
     "name": "stdout",
     "output_type": "stream",
     "text": [
      "id='edfb0b65-a618-4221-b971-b224a41c9a0d' source='user' models_usage=None metadata={} created_at=datetime.datetime(2025, 8, 6, 7, 41, 14, 349868, tzinfo=datetime.timezone.utc) content='Write a short poem about the fall season.' type='TextMessage'\n",
      "id='445938e5-ff70-4304-9e60-9fd5952f30a2' source='plot_writer' models_usage=RequestUsage(prompt_tokens=25, completion_tokens=77) metadata={} created_at=datetime.datetime(2025, 8, 6, 7, 41, 16, 495661, tzinfo=datetime.timezone.utc) content=\"The leaves, they blush in crimson hue,\\nA painter's stroke, both bold and true.\\nThe sun, a gentler, golden gleam,\\nWeaves through the branches, a waking dream.\\n\\nA crispness kisses morning air,\\nA whispered promise, everywhere.\\nThe world prepares for slumber deep,\\nWhile autumn's beauty we will keep.\" type='TextMessage'\n",
      "id='429f5f9a-fa91-426d-9284-1d6f740c245a' source='character_writer' models_usage=RequestUsage(prompt_tokens=109, completion_tokens=1035) metadata={} created_at=datetime.datetime(2025, 8, 6, 7, 41, 21, 42614, tzinfo=datetime.timezone.utc) content=\"Here are the detailed character descriptions:\\n\\n## Pokémon: Cinder, the Infernape\\n\\n**Appearance:** Cinder is a magnificent Infernape, standing a full six feet tall with a powerful, lean build honed by years of dedicated training. His fur is a rich, deep auburn, almost the color of dried blood, with streaks of fiery orange running through his mane and along his arms and legs. His chest is a brilliant, almost phosphorescent yellow, and his signature flaming crown atop his head burns with an intensity that flickers and pulses with his emotions. His eyes are a piercing emerald green, sharp and intelligent, often glinting with a mixture of fierce determination and a touch of melancholy. He bears several scars, subtle but visible, testament to past battles, the most prominent being a faint, white line across his left brow. His hands are calloused, fingers surprisingly dexterous despite their brute strength.\\n\\n**Background:** Cinder was not born into power or privilege. He hails from a remote, rugged mountain village where the Simisear lineage was once revered for their fiery prowess. However, a devastating natural disaster, a colossal wildfire that swept through their ancestral home, decimated their clan and scattered the survivors. Cinder was a young Chimchar then, separated from his family and forced to fend for himself in the unforgiving wilderness. He learned to survive by sheer grit and instinct, honing his natural abilities against the harsh elements and the territorial Pokémon he encountered. His journey was one of relentless self-improvement, driven by a burning desire to reclaim the honor of his lost clan and prove that their spirit, though tested, could never be extinguished. He views his fiery crown not just as a physical attribute, but as a symbol of his lineage and a responsibility to protect those who are vulnerable.\\n\\n**Motivation:** Cinder's primary motivation is to **rekindle the pride and resilience of his scattered people and honor their fallen ancestors.** He believes that through strength, courage, and unwavering dedication, he can inspire others to overcome their own hardships. He seeks out challenges not for glory alone, but to test his limits and to ensure he is always ready to defend his principles and anyone who falls under his protection. He carries a deep-seated resentment towards those who exploit or abuse power, seeing it as a perversion of true strength. He also harbors a quiet hope of finding any other surviving members of his clan, a yearning for connection that fuels his solitary journeys.\\n\\n## Villain: Malakor, the Shadow Weaver\\n\\n**Appearance:** Malakor is a gaunt, imposing figure, cloaked in perpetually shifting shadows that seem to absorb all light. When the shadows recede, one can glimpse a face of stark, unsettling beauty – sharp, aristocratic features, unnaturally pale skin, and eyes that burn with an icy, sapphire blue, devoid of any warmth. His hair is the color of midnight, long and slicked back, framing a high forehead. His hands are long and skeletal, with unnaturally sharp fingernails that are stained a deep, inky black. He often carries a staff carved from obsidian, topped with a glowing, pulsating purple crystal that seems to hum with contained power. The air around him feels unnaturally cold, even on the warmest days. He moves with a sinuous, almost serpentine grace, his footsteps impossibly silent.\\n\\n**Background:** Malakor's past is shrouded in as much mystery as his present. Whispers and fragmented legends speak of a gifted scholar from a forgotten civilization who delved too deeply into forbidden knowledge. Driven by an insatiable thirst for understanding the nature of life and death, he sought to unlock the secrets of the void, the ethereal realm from which shadows are said to originate. In his pursuit, he made a terrible pact, offering his very soul for a deeper connection to this dark dimension. The ritual twisted him, granting him immense power over darkness and the ability to manipulate shadows, but at the cost of his humanity. He became a creature of pure ambition, his emotions leached away, leaving only a cold, calculating intellect. He views life as a fragile, fleeting phenomenon, and his purpose is to bring it under his ultimate control, to usher in an era of perfect, unchanging order, governed by his own will.\\n\\n**Motivation:** Malakor's core motivation is **to impose his vision of ultimate order and control upon the world, believing that true peace can only be achieved through the eradication of chaos and the suppression of free will.** He sees life's inherent unpredictability and the messy emotions of living beings as flaws that lead to suffering and destruction. He seeks to harness the power of the shadows to weave a world where everything is predictable, subdued, and ultimately, under his absolute dominion. He views himself not as a destroyer, but as a benevolent force bringing about a necessary evolution. His ultimate goal is to draw the entire world into the shadow realm, transforming it into a perfectly ordered, unchanging reflection of his own existence, devoid of all vibrant life and its inherent unpredictability. He believes this is the only path to true and eternal stability.\" type='TextMessage'\n",
      "id='c8fc4d3a-e851-4ef0-8c4b-32d902a7250f' source='ending_writer' models_usage=RequestUsage(prompt_tokens=1138, completion_tokens=187) metadata={} created_at=datetime.datetime(2025, 8, 6, 7, 41, 22, 687822, tzinfo=datetime.timezone.utc) content=\"The leaves, they blush in crimson hue,\\nA painter's stroke, both bold and true.\\nThe sun, a gentler, golden gleam,\\nWeaves through the branches, a waking dream.\\n\\nA crispness kisses morning air,\\nA whispered promise, everywhere.\\nThe world prepares for slumber deep,\\nWhile autumn's beauty we will keep.\\n\\nBut as the last leaf softly fell,\\nA chilling secret, it did tell.\\nThe crispness in the air, it hid\\nA creeping cold, where life once bid\\nIts vibrant farewell. The frost's embrace\\nWas Malakor's touch, in this tranquil place.\\nAnd Cinder, the Infernape, whose flame burned bright,\\nFelt his own warmth begin to fade from sight,\\nFor the autumn he adored, so fair and vast,\\nWas merely a prelude, the shadows he cast.\" type='TextMessage'\n",
      "id='e635fb6d-99d7-47db-ab6d-16f113f3f38d' source='review_writer' models_usage=RequestUsage(prompt_tokens=1337, completion_tokens=190) metadata={} created_at=datetime.datetime(2025, 8, 6, 7, 41, 24, 96989, tzinfo=datetime.timezone.utc) content=\"The leaves, they blush in crimson hue,\\nA painter's stroke, both bold and true.\\nThe sun, a gentler, golden gleam,\\nWeaves through the branches, a waking dream.\\n\\nA crispness kisses morning air,\\nA whispered promise, everywhere.\\nThe world prepares for slumber deep,\\nWhile autumn's beauty we will keep.\\n\\nBut as the last leaf softly fell,\\nA chilling secret, it did tell.\\nThe crispness in the air, it hid\\nA creeping cold, where life once bid\\nIts vibrant farewell. The frost's embrace\\nWas Malakor's touch, in this tranquil place.\\nAnd Cinder, the Infernape, whose flame burned bright,\\nFelt his own warmth begin to fade from sight,\\nFor the autumn he adored, so fair and vast,\\nWas merely a prelude, the shadows he cast.\\n\\nAPPROVE\" type='TextMessage'\n",
      "Stop Reason: Text 'APPROVE' mentioned\n"
     ]
    }
   ],
   "source": [
    "# When running inside a script, use a async main function and call it from `asyncio.run(...)`.\n",
    "await team.reset()  # Reset the team for a new task.\n",
    "async for message in team.run_stream(task=\"Write a short poem about the fall season.\"):  # type: ignore\n",
    "    if isinstance(message, TaskResult):\n",
    "        print(\"Stop Reason:\", message.stop_reason)\n",
    "    else:\n",
    "        print(message)"
   ]
  }
 ],
 "metadata": {
  "kernelspec": {
   "display_name": "myenv",
   "language": "python",
   "name": "python3"
  },
  "language_info": {
   "codemirror_mode": {
    "name": "ipython",
    "version": 3
   },
   "file_extension": ".py",
   "mimetype": "text/x-python",
   "name": "python",
   "nbconvert_exporter": "python",
   "pygments_lexer": "ipython3",
   "version": "3.10.0"
  }
 },
 "nbformat": 4,
 "nbformat_minor": 5
}
