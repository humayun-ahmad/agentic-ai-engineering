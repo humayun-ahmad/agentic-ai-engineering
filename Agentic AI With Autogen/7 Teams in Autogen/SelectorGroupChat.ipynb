{
 "cells": [
  {
   "cell_type": "markdown",
   "id": "c61be19c",
   "metadata": {},
   "source": [
    "# Selector Group Chat\n",
    "`SelectorGroupChat` is a group chat similar to `RoundRobinGroupChat`, but with a model-based next speaker selection mechanism."
   ]
  },
  {
   "cell_type": "code",
   "execution_count": 1,
   "id": "c2dedf1f",
   "metadata": {},
   "outputs": [],
   "source": [
    "import asyncio\n",
    "from autogen_agentchat.agents import AssistantAgent\n",
    "from autogen_ext.models.openai import OpenAIChatCompletionClient\n",
    "from autogen_agentchat.messages import TextMessage, MultiModalMessage\n",
    "from autogen_core import Image as AGImage\n",
    "from autogen_agentchat.teams import RoundRobinGroupChat\n",
    "\n",
    "from pydantic import BaseModel\n",
    "from PIL import Image\n",
    "from io import BytesIO\n",
    "import requests\n",
    "\n",
    "from IPython.display import Markdown, display\n",
    "from dotenv import load_dotenv\n",
    "import os\n",
    "\n",
    "load_dotenv()\n",
    "google_api_key = os.getenv('GOOGLE_API_KEY')\n",
    "model_name = os.getenv(\"GEMINI_MODEL\")"
   ]
  },
  {
   "cell_type": "markdown",
   "id": "81ca8289",
   "metadata": {},
   "source": [
    "### Model Client"
   ]
  },
  {
   "cell_type": "code",
   "execution_count": 3,
   "id": "38ae2db3",
   "metadata": {},
   "outputs": [],
   "source": [
    "model_client = OpenAIChatCompletionClient(\n",
    "    model=model_name,\n",
    "    base_url=\"https://generativelanguage.googleapis.com/v1beta/openai/\",\n",
    "    api_key=google_api_key,\n",
    "    model_info={\n",
    "        \"vision\": True,\n",
    "        \"function_calling\": True,\n",
    "        \"json_output\": True,\n",
    "        \"family\": \"gpt-4o\",\n",
    "        \"structured_output\": True\n",
    "    },\n",
    ")"
   ]
  },
  {
   "cell_type": "markdown",
   "id": "991e9112",
   "metadata": {},
   "source": [
    "### Agents"
   ]
  },
  {
   "cell_type": "markdown",
   "id": "4beb13a0",
   "metadata": {},
   "source": [
    "#### Planning Agent"
   ]
  },
  {
   "cell_type": "code",
   "execution_count": 4,
   "id": "6fecd8e6",
   "metadata": {},
   "outputs": [],
   "source": [
    "planning_agent = AssistantAgent(\n",
    "    name = 'PlanningAgent',\n",
    "    description= 'An agent for planning tasks,this agent should be the first to engage when given a new task.',\n",
    "    model_client=model_client,\n",
    "    system_message='''\n",
    "    You are a planning agent.\n",
    "    Your job is to break down complex tasks into smaller, manageable subtasks.\n",
    "    Your team members are :\n",
    "        WebSearchAgent : Searches for information.\n",
    "        DataAnalystAgent : Performs calculations\n",
    "\n",
    "    You only plan and delegate tasks - you do not exectue them yourself.\n",
    "\n",
    "    When assigning tasks, use the below format:\n",
    "    1. <agent> : <task>\n",
    "\n",
    "    After all the tasks are completed, summarize the findings and end with \"TERMINATE\"\n",
    "    ''',\n",
    ")"
   ]
  },
  {
   "cell_type": "markdown",
   "id": "ab63ee79",
   "metadata": {},
   "source": [
    "#### Search Web Tool Agent"
   ]
  },
  {
   "cell_type": "code",
   "execution_count": 6,
   "id": "2faf3dc1",
   "metadata": {},
   "outputs": [],
   "source": [
    "def search_web_tool(query:str)-> str:\n",
    "    # Simulate a web search\n",
    "    if \"2006-2007\" in query:\n",
    "        return \"\"\"Here are the total points scored by Miami Heat players in the 2006-2007 season:\n",
    "        Udonis Haslem: 844 points\n",
    "        Dwayne Wade: 1397 points\n",
    "        James Posey: 550 points\n",
    "        ...\n",
    "        \"\"\"\n",
    "    elif \"2007-2008\" in query:\n",
    "        return \"The number of total rebounds for Dwayne Wade in the Miami Heat season 2007-2008 is 214.\"\n",
    "    elif \"2008-2009\" in query:\n",
    "        return \"The number of total rebounds for Dwayne Wade in the Miami Heat season 2008-2009 is 398.\"\n",
    "    return \"No data found.\"\n",
    "\n",
    "web_search_agent = AssistantAgent(\n",
    "    name = 'WebSearchAgent',\n",
    "    description= 'An agent for searching the web for information.',\n",
    "    model_client=model_client,\n",
    "    tools = [search_web_tool],\n",
    "    system_message='''\n",
    "        You are a web search agent.\n",
    "        Your only tool is search_web_tool - use it to find the information you need.\n",
    "\n",
    "        You make only one search call at a time.\n",
    "        \n",
    "        Once you have the results, you never do calculations or data analysis on them.\n",
    "    ''',\n",
    ")"
   ]
  },
  {
   "cell_type": "markdown",
   "id": "e9b33ee0",
   "metadata": {},
   "source": [
    "#### Data Analyst Agent "
   ]
  },
  {
   "cell_type": "code",
   "execution_count": 7,
   "id": "6ec83bd3",
   "metadata": {},
   "outputs": [],
   "source": [
    "def percentage_change_tool(start:float, end:float) -> float:\n",
    "    # Calculate percentage change\n",
    "    if start == 0:\n",
    "        return 0\n",
    "    return ((end - start) / start) * 100\n",
    "\n",
    "\n",
    "data_analyst_agent = AssistantAgent(\n",
    "    name = 'DataAnalystAgent',\n",
    "    description= 'An agent for performing calculations and data analysis.',\n",
    "    model_client=model_client,\n",
    "    tools= [percentage_change_tool],\n",
    "    system_message='''\n",
    "        You are a data analyst agent.\n",
    "        Given the tasks you have been assigned, you should analyze the data and provide results using the tools provided.\n",
    "\n",
    "        If you have not seen the data, ask for it.\n",
    "\n",
    "    ''',\n",
    ")"
   ]
  },
  {
   "cell_type": "markdown",
   "id": "a6fcef50",
   "metadata": {},
   "source": [
    "## Termination Conditions\n",
    "\n",
    "A termination condition is a callable that takes a sequence of BaseAgentEvent or BaseChatMessage objects since the last time the condition was called, and returns a StopMessage if the conversation should be terminated, or None otherwise. Once a termination condition has been reached, it must be reset by calling reset() before it can be used again."
   ]
  },
  {
   "cell_type": "markdown",
   "id": "f8174cc7",
   "metadata": {},
   "source": []
  }
 ],
 "metadata": {
  "kernelspec": {
   "display_name": "myenv",
   "language": "python",
   "name": "python3"
  },
  "language_info": {
   "codemirror_mode": {
    "name": "ipython",
    "version": 3
   },
   "file_extension": ".py",
   "mimetype": "text/x-python",
   "name": "python",
   "nbconvert_exporter": "python",
   "pygments_lexer": "ipython3",
   "version": "3.10.0"
  }
 },
 "nbformat": 4,
 "nbformat_minor": 5
}
