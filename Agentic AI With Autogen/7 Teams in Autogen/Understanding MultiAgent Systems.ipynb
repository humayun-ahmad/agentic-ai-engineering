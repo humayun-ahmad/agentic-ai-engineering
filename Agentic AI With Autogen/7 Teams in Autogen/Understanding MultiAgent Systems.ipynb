{
 "cells": [
  {
   "cell_type": "markdown",
   "id": "f6d8ad79",
   "metadata": {},
   "source": [
    "# Multi Agent-Systems\n",
    "A team is a group of agents that work together to achieve a common goal"
   ]
  },
  {
   "cell_type": "code",
   "execution_count": 12,
   "id": "d6a5c411",
   "metadata": {},
   "outputs": [],
   "source": [
    "import asyncio\n",
    "from autogen_agentchat.agents import AssistantAgent\n",
    "from autogen_ext.models.openai import OpenAIChatCompletionClient\n",
    "from autogen_agentchat.messages import TextMessage, MultiModalMessage\n",
    "from autogen_core import Image as AGImage\n",
    "from autogen_agentchat.teams import RoundRobinGroupChat\n",
    "\n",
    "from pydantic import BaseModel\n",
    "from PIL import Image\n",
    "from io import BytesIO\n",
    "import requests\n",
    "\n",
    "from IPython.display import Markdown, display\n",
    "from dotenv import load_dotenv\n",
    "import os\n",
    "\n",
    "load_dotenv()\n",
    "google_api_key = os.getenv('GOOGLE_API_KEY')\n",
    "model_name = os.getenv(\"GEMINI_MODEL\")"
   ]
  },
  {
   "cell_type": "markdown",
   "id": "f1896243",
   "metadata": {},
   "source": [
    "### Model Client"
   ]
  },
  {
   "cell_type": "code",
   "execution_count": 8,
   "id": "5aff3b72",
   "metadata": {},
   "outputs": [],
   "source": [
    "model_client = OpenAIChatCompletionClient(\n",
    "    model=model_name,\n",
    "    base_url=\"https://generativelanguage.googleapis.com/v1beta/openai/\",\n",
    "    api_key=google_api_key,\n",
    "    model_info={\n",
    "        \"vision\": True,\n",
    "        \"function_calling\": True,\n",
    "        \"json_output\": True,\n",
    "        \"family\": \"gpt-4o\",\n",
    "        \"structured_output\": True\n",
    "    },\n",
    ")"
   ]
  },
  {
   "cell_type": "markdown",
   "id": "e17f99bb",
   "metadata": {},
   "source": [
    "### Single Agent Approach\n",
    "A single agent is going to create a short story for us"
   ]
  },
  {
   "cell_type": "code",
   "execution_count": 9,
   "id": "0957078b",
   "metadata": {},
   "outputs": [],
   "source": [
    "story_agent = AssistantAgent(\n",
    "    name='story_agent',\n",
    "    model_client=model_client,\n",
    "    system_message='You are a creating writer. Generate a short story about a brave knight and a dragon.'\n",
    ")"
   ]
  },
  {
   "cell_type": "code",
   "execution_count": 10,
   "id": "1ef5f306",
   "metadata": {},
   "outputs": [
    {
     "data": {
      "text/markdown": [
       "Sir Kaelen’s armor sizzled. He dodged a torrent of fire, his shield held high. The dragon roared, a sound of thunder and rage. With a final, desperate lunge, the knight’s enchanted sword found its mark. The great beast fell, and the kingdom was finally safe."
      ],
      "text/plain": [
       "<IPython.core.display.Markdown object>"
      ]
     },
     "metadata": {},
     "output_type": "display_data"
    }
   ],
   "source": [
    "async def test_simple_agent():\n",
    "    task = TextMessage(\n",
    "        content='Write a short story about a brave knight and a dragon. Keep it up to 50 words',\n",
    "        source='user'\n",
    "    )\n",
    "    result = await story_agent.run(task=task)\n",
    "    # print(result.messages[-1].content)\n",
    "    display(Markdown(result.messages[-1].content))\n",
    "\n",
    "await test_simple_agent()"
   ]
  },
  {
   "cell_type": "markdown",
   "id": "bc02519d",
   "metadata": {},
   "source": [
    "### Multi Agent Team Approach\n",
    "We will be using 3 agents to now write the story, each with its own work and mastery"
   ]
  },
  {
   "cell_type": "code",
   "execution_count": 11,
   "id": "a9d0e360",
   "metadata": {},
   "outputs": [],
   "source": [
    "plot_agent = AssistantAgent(\n",
    "    name = 'plot_writer',\n",
    "    model_client=model_client,\n",
    "    system_message=\"You create engaging plots for stories. Focus on the Pokemon's journey\"\n",
    ")\n",
    "\n",
    "character_agent = AssistantAgent(\n",
    "    name = 'character_writer',\n",
    "    model_client=model_client,\n",
    "    system_message=\"You develop characters. Describe the pokemon and the villian in detail, including their motivations and backgrounds.\"\n",
    ")\n",
    "\n",
    "ending_agent = AssistantAgent(\n",
    "    name = 'ending_writer',\n",
    "    model_client=model_client,\n",
    "    system_message=\"You wrute engaging endings. conclude the story with a twist.\"\n",
    ")"
   ]
  },
  {
   "cell_type": "markdown",
   "id": "b6bd0758",
   "metadata": {},
   "source": [
    "`RoundRobinGroupChat` is a simple yet effective team configuration where all agents share the same context and take turns responding in a round-robin fashion. Each agent, during its turn, broadcasts its response to all other agents, ensuring that the entire team maintains a consistent context."
   ]
  },
  {
   "cell_type": "code",
   "execution_count": 16,
   "id": "303a4af7",
   "metadata": {},
   "outputs": [
    {
     "data": {
      "text/plain": [
       "'A team of agents.'"
      ]
     },
     "execution_count": 16,
     "metadata": {},
     "output_type": "execute_result"
    }
   ],
   "source": [
    "team = RoundRobinGroupChat(\n",
    "    participants= [plot_agent, character_agent, ending_agent],\n",
    "    max_turns=3\n",
    ")\n",
    "team.description"
   ]
  },
  {
   "cell_type": "code",
   "execution_count": 17,
   "id": "bf6f12d7",
   "metadata": {},
   "outputs": [
    {
     "name": "stdout",
     "output_type": "stream",
     "text": [
      "user : Write a short story a brave boy and his Pokemon. Keep it up to 50 words\n",
      "plot_writer : The cave entrance was blocked by a snarling Mightyena. My trainer, Leo, froze. He was scared, but I wasn't. I was his Riolu. I leaped forward, paws glowing with a new power. My first Force Palm struck true, clearing our path. My journey to protect him had begun.\n",
      "character_writer : Based on your story, here are the detailed character developments:\n",
      "\n",
      "### The Pokémon: Riolu\n",
      "\n",
      "**Background:** This Riolu was hatched from an egg given to Leo by his parents, who hoped it would help their timid son grow more confident. From the moment it hatched, Riolu sensed Leo’s gentle nature and his underlying anxiety. It never saw Leo’s fear as a weakness, but as something precious that needed protecting. It has spent its short life watching Leo, learning his habits, and feeling a powerful, instinctual bond that goes beyond typical training.\n",
      "\n",
      "**Motivation:** Riolu's motivation is one of pure, unwavering loyalty. It lives to be the courage that Leo sometimes lacks. The encounter with the Mightyena was a pivotal moment—the first time its protective instinct physically manifested as a new power (Force Palm). Its journey is not for badges or glory, but to become strong enough to ensure that Leo is never harmed and can continue his own journey, safe under its watch.\n",
      "\n",
      "### The Villain: The Mightyena\n",
      "\n",
      "**Background:** This Mightyena was not born wild. It was the lead Pokémon of a ruthless trainer who valued only power. After losing a critical battle, Mightyena was cruelly abandoned and left for dead near this cave. The snarling aggression is a mask for deep-seated trauma and a bitter sense of betrayal. It has survived alone, its loyalty shattered, and now views all trainers and their partners with scorn and hatred.\n",
      "\n",
      "**Motivation:** The Mightyena is driven by territorial rage and resentment. It blocks the cave entrance not just to guard its lair, but to actively challenge the bond between trainers and Pokémon that it once cherished and lost. Seeing Leo’s fear and Riolu’s bravery enrages it; the scene is a painful reminder of its own past. Its goal is to prove that such bonds are fragile and that true strength lies in solitary, bitter survival. It wants to break them to validate its own tragic existence.\n",
      "ending_writer : As the defeated Mightyena fled, Leo’s trembling stopped. A cold, appraising smile crept across his face. \"Good,\" he whispered, his voice suddenly hard as steel. \"You finally unlocked your power.\"\n",
      "\n",
      "My glowing paws dimmed. I hadn't been protecting a scared boy. I had been fulfilling his plan.\n"
     ]
    }
   ],
   "source": [
    "async def test_team():\n",
    "    task = TextMessage(\n",
    "        content='Write a short story a brave boy and his Pokemon. Keep it up to 50 words',\n",
    "        source='user'\n",
    "    )\n",
    "\n",
    "    result = await team.run(task=task)\n",
    "    for each_agent_message in result.messages:\n",
    "        print(f'{each_agent_message.source} : {each_agent_message.content}')\n",
    "        \n",
    "\n",
    "await test_team()"
   ]
  }
 ],
 "metadata": {
  "kernelspec": {
   "display_name": "myenv",
   "language": "python",
   "name": "python3"
  },
  "language_info": {
   "codemirror_mode": {
    "name": "ipython",
    "version": 3
   },
   "file_extension": ".py",
   "mimetype": "text/x-python",
   "name": "python",
   "nbconvert_exporter": "python",
   "pygments_lexer": "ipython3",
   "version": "3.10.0"
  }
 },
 "nbformat": 4,
 "nbformat_minor": 5
}
