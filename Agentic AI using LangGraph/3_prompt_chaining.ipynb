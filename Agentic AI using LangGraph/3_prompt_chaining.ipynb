{
 "cells": [
  {
   "cell_type": "markdown",
   "id": "40dc4837",
   "metadata": {},
   "source": [
    "# <center>Prompt Chaining</center>"
   ]
  },
  {
   "cell_type": "markdown",
   "id": "c54ad3d1",
   "metadata": {},
   "source": [
    "### import module"
   ]
  },
  {
   "cell_type": "code",
   "execution_count": 14,
   "id": "e963f86e",
   "metadata": {},
   "outputs": [],
   "source": [
    "from langgraph.graph import StateGraph, START, END\n",
    "from langchain_google_genai import ChatGoogleGenerativeAI\n",
    "from typing import TypedDict\n",
    "from dotenv import load_dotenv\n",
    "import os\n",
    "from IPython.display import Markdown, display"
   ]
  },
  {
   "cell_type": "markdown",
   "id": "fcf43051",
   "metadata": {},
   "source": [
    "### Initialize Gemini model"
   ]
  },
  {
   "cell_type": "code",
   "execution_count": 5,
   "id": "dab70518",
   "metadata": {},
   "outputs": [
    {
     "name": "stdout",
     "output_type": "stream",
     "text": [
      "Google API Key exists and begins AI\n"
     ]
    }
   ],
   "source": [
    "load_dotenv(override=True)\n",
    "google_api_key = os.getenv('GOOGLE_API_KEY')\n",
    "\n",
    "if google_api_key:\n",
    "    print(f\"Google API Key exists and begins {google_api_key[:2]}\")\n",
    "else:\n",
    "    print(\"Google API Key not set (and this is optional)\")\n",
    "    \n",
    "model_name = \"gemini-2.5-flash-lite\"\n",
    "\n",
    "# Make sure you have GOOGLE_API_KEY in your .env file\n",
    "model = ChatGoogleGenerativeAI(\n",
    "    model=model_name,\n",
    "    google_api_key=os.getenv(\"GOOGLE_API_KEY\")\n",
    ")"
   ]
  },
  {
   "cell_type": "markdown",
   "id": "f78e17ce",
   "metadata": {},
   "source": [
    "### State Define"
   ]
  },
  {
   "cell_type": "code",
   "execution_count": 6,
   "id": "abe93de4",
   "metadata": {},
   "outputs": [],
   "source": [
    "class BlogState(TypedDict):\n",
    "    title: str\n",
    "    outline: str\n",
    "    content: str"
   ]
  },
  {
   "cell_type": "code",
   "execution_count": null,
   "id": "77885cde",
   "metadata": {},
   "outputs": [],
   "source": [
    "def create_outline(state: BlogState) -> BlogState:\n",
    "    # fetch title\n",
    "    title= state['title']\n",
    "    \n",
    "    # call llm gen outline\n",
    "    prompt = f\"Generate a detailed outline for a blog on the topic - {title}\"\n",
    "    outline = model.invoke(prompt).content\n",
    "    \n",
    "    # update state\n",
    "    state['outline'] = outline\n",
    "    \n",
    "    return state\n",
    "\n",
    "def create_blog(state: BlogState) -> BlogState:\n",
    "\n",
    "    title = state['title']\n",
    "    outline = state['outline']\n",
    "\n",
    "    prompt = f'Write a detailed blog on the title - {title} using the follwing outline \\n {outline}'\n",
    "\n",
    "    content = model.invoke(prompt).content\n",
    "\n",
    "    state['content'] = content\n",
    "\n",
    "    return state\n",
    "    "
   ]
  },
  {
   "cell_type": "markdown",
   "id": "a0a6d6c9",
   "metadata": {},
   "source": [
    "### Define graph, add node, add edge, compile and execute"
   ]
  },
  {
   "cell_type": "code",
   "execution_count": 9,
   "id": "8c528468",
   "metadata": {},
   "outputs": [],
   "source": [
    "graph = StateGraph(BlogState)\n",
    "\n",
    "# nodes\n",
    "graph.add_node('create_outline', create_outline)\n",
    "graph.add_node('create_blog', create_blog)\n",
    "\n",
    "# edges\n",
    "graph.add_edge(START, 'create_outline')\n",
    "graph.add_edge('create_outline', 'create_blog')\n",
    "graph.add_edge('create_blog', END)\n",
    "\n",
    "# compile\n",
    "workflow = graph.compile()"
   ]
  },
  {
   "cell_type": "markdown",
   "id": "47460917",
   "metadata": {},
   "source": [
    "### Execute"
   ]
  },
  {
   "cell_type": "code",
   "execution_count": 12,
   "id": "6211017a",
   "metadata": {},
   "outputs": [],
   "source": [
    "intial_state = {'title': 'Rise of AI in India'}\n",
    "\n",
    "final_state = workflow.invoke(intial_state)\n"
   ]
  },
  {
   "cell_type": "code",
   "execution_count": 16,
   "id": "b41b106e",
   "metadata": {},
   "outputs": [
    {
     "data": {
      "text/markdown": [
       "## Blog Outline: The Ascending Intelligence: Understanding the Rise of AI in India\n",
       "\n",
       "**Blog Title Options:**\n",
       "\n",
       "* The AI Awakening: How India is Leading the Charge\n",
       "* From Silicon Valley to Silicon India: The Dawn of AI\n",
       "* India's AI Revolution: Opportunities, Challenges, and the Road Ahead\n",
       "* Intelligent India: Unpacking the Rapid Growth of Artificial Intelligence\n",
       "\n",
       "**I. Introduction: The AI Tsunami Reaching Indian Shores**\n",
       "\n",
       "*   **Hook:** Start with a compelling statistic or anecdote about AI's impact in India (e.g., a successful AI deployment, a major investment, a widely used AI-powered service).\n",
       "*   **What is AI?** Briefly define Artificial Intelligence in simple, accessible terms for a general audience.\n",
       "*   **The Global AI Landscape:** A quick overview of AI's global dominance and its transformative potential.\n",
       "*   **India's Unique Position:** Introduce India as a rapidly emerging player in the AI space, highlighting its inherent strengths.\n",
       "*   **Thesis Statement:** Clearly state the blog's purpose – to explore the drivers, applications, challenges, and future trajectory of AI's rise in India.\n",
       "\n",
       "**II. The Pillars of India's AI Ascent: What's Fueling the Growth?**\n",
       "\n",
       "*   **A. The Demographic Dividend & Tech-Savvy Workforce:**\n",
       "    *   Young, educated, and digitally native population.\n",
       "    *   Large pool of skilled engineers, data scientists, and IT professionals.\n",
       "    *   Growing emphasis on STEM education and AI-specific training programs.\n",
       "*   **B. Government Initiatives & Policy Push:**\n",
       "    *   National Strategy for Artificial Intelligence (NITI Aayog's role).\n",
       "    *   \"Digital India\" and \"Make in India\" initiatives fostering tech adoption.\n",
       "    *   Government investments in AI research and development.\n",
       "    *   Focus on AI for social good and public services.\n",
       "*   **C. Thriving Startup Ecosystem & Innovation Hubs:**\n",
       "    *   Emergence of numerous AI-focused startups across various sectors.\n",
       "    *   Key innovation hubs (e.g., Bengaluru, Hyderabad, Pune, Delhi-NCR).\n",
       "    *   Venture capital funding and angel investment in AI companies.\n",
       "*   **D. Data Availability & Digital Transformation:**\n",
       "    *   Massive amounts of data generated by India's large population and digital services.\n",
       "    *   Increasing adoption of digital technologies across industries.\n",
       "    *   Growth of cloud computing infrastructure.\n",
       "*   **E. Global Collaboration & Partnerships:**\n",
       "    *   MoUs and collaborations with international AI research institutions and companies.\n",
       "    *   Attracting foreign direct investment in the AI sector.\n",
       "\n",
       "**III. AI in Action: Transforming India Across Sectors**\n",
       "\n",
       "*   **A. Healthcare:**\n",
       "    *   AI-powered diagnostics and medical imaging analysis (e.g., detecting diseases like cancer, diabetic retinopathy).\n",
       "    *   Personalized treatment plans and drug discovery.\n",
       "    *   AI in telemedicine and remote patient monitoring.\n",
       "    *   Robotic surgery assistance.\n",
       "*   **B. Agriculture:**\n",
       "    *   Precision farming and crop yield prediction.\n",
       "    *   AI-powered pest and disease detection.\n",
       "    *   Automated irrigation and soil analysis.\n",
       "    *   Supply chain optimization for agricultural produce.\n",
       "*   **C. Finance & Banking (FinTech):**\n",
       "    *   AI-driven fraud detection and risk management.\n",
       "    *   Personalized financial advice and robo-advisory services.\n",
       "    *   Credit scoring and loan application processing.\n",
       "    *   Chatbots for customer service.\n",
       "*   **D. E-commerce & Retail:**\n",
       "    *   Personalized product recommendations and targeted marketing.\n",
       "    *   Inventory management and demand forecasting.\n",
       "    *   AI-powered customer service and virtual assistants.\n",
       "    *   Optimized logistics and supply chains.\n",
       "*   **E. Education:**\n",
       "    *   Personalized learning platforms and adaptive learning systems.\n",
       "    *   Automated grading and feedback.\n",
       "    *   AI tutors and chatbots for student support.\n",
       "    *   Predictive analytics for student performance.\n",
       "*   **F. Manufacturing & Industry 4.0:**\n",
       "    *   Predictive maintenance of machinery.\n",
       "    *   Automated quality control and inspection.\n",
       "    *   Robotics and automation in production lines.\n",
       "    *   Supply chain optimization.\n",
       "*   **G. Transportation & Logistics:**\n",
       "    *   AI for traffic management and route optimization.\n",
       "    *   Autonomous vehicles (though still in nascent stages).\n",
       "    *   Predictive maintenance for fleets.\n",
       "    *   Smart warehousing and inventory management.\n",
       "*   **H. Government & Public Services:**\n",
       "    *   AI for citizen services and grievance redressal.\n",
       "    *   Smart city initiatives (e.g., waste management, energy efficiency).\n",
       "    *   AI in law enforcement and security.\n",
       "    *   Predictive analytics for resource allocation.\n",
       "\n",
       "**IV. Navigating the Challenges: Hurdles on the AI Path**\n",
       "\n",
       "*   **A. Data Privacy & Security Concerns:**\n",
       "    *   Protecting sensitive personal data.\n",
       "    *   Ensuring cybersecurity against AI-powered threats.\n",
       "    *   Ethical considerations in data collection and usage.\n",
       "*   **B. Algorithmic Bias & Fairness:**\n",
       "    *   Addressing biases embedded in data and algorithms.\n",
       "    *   Ensuring equitable outcomes for all demographics.\n",
       "    *   Developing fair and transparent AI systems.\n",
       "*   **C. Skill Gap & Workforce Transition:**\n",
       "    *   Reskilling and upskilling the existing workforce for AI-driven jobs.\n",
       "    *   Addressing potential job displacement and creating new roles.\n",
       "    *   Ensuring accessibility of AI education and training.\n",
       "*   **D. Infrastructure & Connectivity Gaps:**\n",
       "    *   Ensuring widespread access to reliable internet and computing power, especially in rural areas.\n",
       "    *   Developing robust data infrastructure.\n",
       "*   **E. Ethical and Regulatory Frameworks:**\n",
       "    *   Establishing clear guidelines for AI development and deployment.\n",
       "    *   Addressing accountability and responsibility for AI actions.\n",
       "    *   The need for responsible AI innovation.\n",
       "*   **F. Cost of Implementation & Scalability:**\n",
       "    *   High initial investment for AI solutions.\n",
       "    *   Challenges in scaling AI applications across diverse contexts.\n",
       "\n",
       "**V. The Future of AI in India: A Vision for Tomorrow**\n",
       "\n",
       "*   **A. Continued Growth & Dominance:**\n",
       "    *   Projecting further expansion of AI adoption across more sectors.\n",
       "    *   India becoming a global leader in specific AI niches.\n",
       "*   **B. AI for Social Impact & Inclusivity:**\n",
       "    *   Leveraging AI to address pressing societal challenges (poverty, healthcare access, education).\n",
       "    *   Ensuring AI benefits reach all segments of society.\n",
       "*   **C. Rise of Generative AI and its Applications:**\n",
       "    *   Exploring the impact of LLMs and generative AI on content creation, coding, and more.\n",
       "    *   Potential for innovation in creative industries and software development.\n",
       "*   **D. The Human-AI Collaboration:**\n",
       "    *   Focus on augmenting human capabilities rather than replacing them.\n",
       "    *   Developing AI systems that collaborate seamlessly with humans.\n",
       "*   **E. India's Role in Shaping Global AI Standards:**\n",
       "    *   Contributing to international discussions on AI ethics and governance.\n",
       "\n",
       "**VI. Conclusion: Embracing the Intelligent Future**\n",
       "\n",
       "*   **Recap of Key Points:** Briefly summarize the main drivers, applications, and challenges of AI in India.\n",
       "*   **Reiterate the Thesis:** Emphasize India's strong position and potential in the global AI landscape.\n",
       "*   **Call to Action/Thought-Provoking Statement:** Encourage readers to engage with the topic, embrace AI's potential responsibly, and consider how they can contribute to India's intelligent future.\n",
       "*   **Final Thought:** A forward-looking statement about the exciting possibilities AI holds for India.\n",
       "\n",
       "**VII. Further Reading/Resources (Optional)**\n",
       "\n",
       "*   Links to relevant government reports, NITI Aayog publications.\n",
       "*   Articles from reputable tech news outlets.\n",
       "*   Academic research papers on AI in India.\n",
       "*   Websites of leading AI companies and research institutions in India."
      ],
      "text/plain": [
       "<IPython.core.display.Markdown object>"
      ]
     },
     "metadata": {},
     "output_type": "display_data"
    }
   ],
   "source": [
    "# print(final_state)\n",
    "display(Markdown(final_state['outline']))"
   ]
  },
  {
   "cell_type": "code",
   "execution_count": 17,
   "id": "b55c6e03",
   "metadata": {},
   "outputs": [
    {
     "data": {
      "text/markdown": [
       "## The Ascending Intelligence: Understanding the Rise of AI in India\n",
       "\n",
       "The hum of innovation is growing louder in India, not just from its bustling IT parks, but from the very algorithms that are beginning to power its progress. Artificial Intelligence (AI), once a futuristic concept confined to sci-fi narratives, is no longer a distant dream for India; it’s a rapidly unfolding reality. Imagine a farmer in rural Maharashtra receiving real-time pest alerts via an AI-powered app, or a doctor in a remote village diagnosing a critical illness with the help of an AI-driven imaging tool. These aren't hypothetical scenarios; they are snapshots of the AI tsunami that is already reaching Indian shores, transforming how we live, work, and interact with the world.\n",
       "\n",
       "But what exactly is this “Artificial Intelligence” that’s causing such a stir? In its simplest form, AI refers to the simulation of human intelligence processes by computer systems. This includes learning (the acquisition of information and rules for using the information), reasoning (using rules to reach approximate or definite conclusions), and self-correction. Globally, AI is already the engine behind everything from personalized streaming recommendations to advanced medical research, promising to revolutionize industries and solve some of humanity's most complex problems.\n",
       "\n",
       "India, with its unique blend of a young, vibrant population and a burgeoning digital infrastructure, is uniquely positioned to not just participate in, but to *lead* this global AI revolution. This blog will delve into the core drivers behind India's AI ascent, explore the diverse sectors being transformed by its application, navigate the significant challenges that lie ahead, and paint a vision for the intelligent future that awaits.\n",
       "\n",
       "## The Pillars of India's AI Ascent: What's Fueling the Growth?\n",
       "\n",
       "India's rapid progress in AI isn't a happy accident; it's the result of a confluence of powerful factors that are creating fertile ground for intelligent technologies to flourish.\n",
       "\n",
       "### A. The Demographic Dividend & Tech-Savvy Workforce:\n",
       "\n",
       "India is blessed with a demographic dividend unlike any other. A staggering proportion of its population is young, educated, and digitally native. This translates into a vast pool of talented engineers, data scientists, and IT professionals who are not only proficient in technology but are also eager to embrace and innovate with AI. The growing emphasis on STEM education and the proliferation of AI-specific training programs are further honing this talent, creating a workforce ready to tackle the complexities of AI development and deployment.\n",
       "\n",
       "### B. Government Initiatives & Policy Push:\n",
       "\n",
       "The Indian government has recognized AI as a critical enabler of national development and economic growth. The **National Strategy for Artificial Intelligence**, spearheaded by NITI Aayog, provides a roadmap for leveraging AI for societal good. Initiatives like **\"Digital India\"** and **\"Make in India\"** are creating an environment conducive to tech adoption and innovation, encouraging the development and deployment of AI solutions. Significant government investments in AI research and development, coupled with a focus on using AI for public services and social impact, are further accelerating this growth.\n",
       "\n",
       "### C. Thriving Startup Ecosystem & Innovation Hubs:\n",
       "\n",
       "India's startup scene is a hotbed of innovation, and AI is at its forefront. From Bengaluru, often dubbed India's Silicon Valley, to emerging tech hubs like Hyderabad, Pune, and Delhi-NCR, a vibrant ecosystem of AI-focused startups is emerging. These agile companies are developing cutting-edge solutions across diverse sectors, attracting substantial venture capital funding and angel investment, further fueling the AI revolution.\n",
       "\n",
       "### D. Data Availability & Digital Transformation:\n",
       "\n",
       "India's massive population, coupled with the widespread adoption of digital services, generates an enormous volume of data. This data is the lifeblood of AI algorithms, enabling them to learn, adapt, and improve. The increasing digitalization across industries, from banking to retail, and the growth of cloud computing infrastructure, are providing the necessary backbone for AI to thrive.\n",
       "\n",
       "### E. Global Collaboration & Partnerships:\n",
       "\n",
       "India is actively engaging with the global AI community. Memorandums of Understanding (MoUs) and collaborations with international AI research institutions and leading tech companies are fostering knowledge exchange and driving innovation. Furthermore, India is becoming an attractive destination for foreign direct investment in the AI sector, bringing in capital, expertise, and global best practices.\n",
       "\n",
       "## AI in Action: Transforming India Across Sectors\n",
       "\n",
       "The impact of AI is not confined to laboratories or theoretical discussions; it's actively reshaping industries and improving lives across India.\n",
       "\n",
       "*   **Healthcare:** AI is revolutionizing healthcare by powering advanced diagnostics and medical imaging analysis, aiding in the early detection of diseases like cancer and diabetic retinopathy. It's enabling personalized treatment plans, accelerating drug discovery, and making telemedicine more effective for remote patient monitoring. The precision of robotic surgery is also being enhanced by AI.\n",
       "\n",
       "*   **Agriculture:** For a nation where agriculture is paramount, AI offers transformative solutions. Precision farming techniques, powered by AI, help predict crop yields, optimize irrigation, and detect pests and diseases early. AI is also streamlining supply chains, ensuring that produce reaches consumers efficiently.\n",
       "\n",
       "*   **Finance & Banking (FinTech):** The financial sector is rapidly adopting AI for robust fraud detection and risk management. AI-driven robo-advisory services offer personalized financial guidance, while AI streamlines credit scoring and loan application processes. Chatbots are enhancing customer service, providing instant support.\n",
       "\n",
       "*   **E-commerce & Retail:** AI is the backbone of personalized online shopping experiences, offering tailored product recommendations and targeted marketing. It optimizes inventory management and demand forecasting, while AI-powered customer service and virtual assistants enhance the shopping journey. Logistics and supply chains are also being made more efficient.\n",
       "\n",
       "*   **Education:** AI is ushering in a new era of personalized learning. Adaptive learning systems cater to individual student needs, while automated grading and AI tutors provide instant feedback and support. Predictive analytics help identify students at risk, enabling timely interventions.\n",
       "\n",
       "*   **Manufacturing & Industry 4.0:** AI is driving the Industry 4.0 revolution with predictive maintenance of machinery, automated quality control, and enhanced robotics on production lines. This leads to increased efficiency and reduced downtime.\n",
       "\n",
       "*   **Transportation & Logistics:** AI is optimizing traffic management and route planning in urban centers. While autonomous vehicles are still in nascent stages, AI is powering predictive maintenance for fleets and enhancing the efficiency of smart warehousing and inventory management.\n",
       "\n",
       "*   **Government & Public Services:** AI is being deployed to improve citizen services and grievance redressal. Smart city initiatives leverage AI for efficient waste management and energy consumption. AI is also finding applications in law enforcement and security, as well as in predictive analytics for better resource allocation.\n",
       "\n",
       "## Navigating the Challenges: Hurdles on the AI Path\n",
       "\n",
       "Despite the immense promise, India's AI journey is not without its hurdles. Addressing these challenges is crucial for realizing AI's full potential.\n",
       "\n",
       "*   **Data Privacy & Security Concerns:** The vast amounts of data being collected raise significant concerns about privacy and security. Protecting sensitive personal information and safeguarding against AI-powered cyber threats are paramount. Ethical considerations in data collection and usage are also critical.\n",
       "\n",
       "*   **Algorithmic Bias & Fairness:** AI systems learn from data, and if the data contains inherent biases, the AI will perpetuate them. Ensuring fairness and equity in AI outcomes for all demographics requires careful attention to data quality and algorithmic design.\n",
       "\n",
       "*   **Skill Gap & Workforce Transition:** As AI automates certain tasks, there's a need to reskill and upskill the existing workforce to adapt to AI-driven jobs. Addressing potential job displacement and creating new roles, while ensuring accessible AI education and training, is a significant undertaking.\n",
       "\n",
       "*   **Infrastructure & Connectivity Gaps:** While digital transformation is accelerating, reliable internet access and computing power are not uniformly available, especially in rural areas. Bridging these infrastructure gaps is essential for widespread AI adoption.\n",
       "\n",
       "*   **Ethical and Regulatory Frameworks:** The rapid evolution of AI necessitates clear ethical guidelines and regulatory frameworks. Establishing accountability and responsibility for AI actions, and fostering responsible AI innovation, are crucial for building trust and ensuring societal benefit.\n",
       "\n",
       "*   **Cost of Implementation & Scalability:** The initial investment required for AI solutions can be substantial, and scaling these applications across diverse contexts and industries presents its own set of challenges.\n",
       "\n",
       "## The Future of AI in India: A Vision for Tomorrow\n",
       "\n",
       "The trajectory of AI in India points towards continued growth and an increasingly dominant role across all facets of life. We can anticipate:\n",
       "\n",
       "*   **Continued Growth & Dominance:** AI adoption will likely expand into more sectors, with India potentially becoming a global leader in specific AI niches like AI for agriculture or AI in healthcare for emerging economies.\n",
       "\n",
       "*   **AI for Social Impact & Inclusivity:** The focus will increasingly be on leveraging AI to address pressing societal challenges such as poverty, healthcare access, and educational disparities, ensuring that the benefits of AI reach all segments of society.\n",
       "\n",
       "*   **Rise of Generative AI and its Applications:** Generative AI, including Large Language Models (LLMs), will unlock new possibilities in content creation, software development, and creative industries, driving unprecedented innovation.\n",
       "\n",
       "*   **The Human-AI Collaboration:** The future lies not in replacing humans, but in augmenting their capabilities. The focus will be on developing AI systems that seamlessly collaborate with humans, enhancing productivity and problem-solving.\n",
       "\n",
       "*   **India's Role in Shaping Global AI Standards:** As India's AI prowess grows, its influence in shaping international discussions on AI ethics, governance, and standards will undoubtedly increase.\n",
       "\n",
       "## Conclusion: Embracing the Intelligent Future\n",
       "\n",
       "India's rise in the AI landscape is a testament to its inherent strengths: a young, tech-savvy workforce, a supportive government, a vibrant startup ecosystem, and a wealth of data. While challenges related to data privacy, bias, skill gaps, and infrastructure remain, the nation is actively working to overcome them.\n",
       "\n",
       "India is not just adopting AI; it is shaping its future. By embracing AI responsibly and strategically, India has the potential to not only drive economic growth but also to address critical societal challenges and improve the lives of its citizens. As we stand at the precipice of this intelligent revolution, let us engage with the topic, champion responsible innovation, and actively contribute to building an \"Intelligent India\" that benefits everyone. The future is here, and it's powered by intelligence."
      ],
      "text/plain": [
       "<IPython.core.display.Markdown object>"
      ]
     },
     "metadata": {},
     "output_type": "display_data"
    }
   ],
   "source": [
    "display(Markdown(final_state['content']))"
   ]
  }
 ],
 "metadata": {
  "kernelspec": {
   "display_name": "myenv",
   "language": "python",
   "name": "python3"
  },
  "language_info": {
   "codemirror_mode": {
    "name": "ipython",
    "version": 3
   },
   "file_extension": ".py",
   "mimetype": "text/x-python",
   "name": "python",
   "nbconvert_exporter": "python",
   "pygments_lexer": "ipython3",
   "version": "3.10.0"
  }
 },
 "nbformat": 4,
 "nbformat_minor": 5
}
